{
 "cells": [
  {
   "cell_type": "code",
   "execution_count": 1,
   "id": "6a47f18b-1b91-4a42-8f4c-b1a5423de498",
   "metadata": {},
   "outputs": [],
   "source": [
    "from database.arangodb import DatabaseConnector"
   ]
  },
  {
   "cell_type": "code",
   "execution_count": 8,
   "id": "4535cc16-c21e-456a-ae1f-220dd99dd4ac",
   "metadata": {},
   "outputs": [],
   "source": [
    "from database.milvus import MilvusAPI"
   ]
  },
  {
   "cell_type": "code",
   "execution_count": 2,
   "id": "55c79aad-7044-4052-af6e-742a6b73c172",
   "metadata": {},
   "outputs": [],
   "source": [
    "from movie_db import MOVIE_DB"
   ]
  },
  {
   "cell_type": "code",
   "execution_count": 3,
   "id": "3edbeba9-bc9d-43d9-9aec-e3515275591e",
   "metadata": {},
   "outputs": [],
   "source": [
    "mdb = MOVIE_DB()"
   ]
  },
  {
   "cell_type": "code",
   "execution_count": 4,
   "id": "2511b82c-38a4-474e-a694-300fe4d724ad",
   "metadata": {},
   "outputs": [
    {
     "data": {
      "text/plain": [
       "'static/development/1047_Defiance_01_08_28_259-01_08_29_433.mp4'"
      ]
     },
     "execution_count": 4,
     "metadata": {},
     "output_type": "execute_result"
    }
   ],
   "source": [
    "mdb.get_movie_url('Movies/114208777')"
   ]
  },
  {
   "cell_type": "code",
   "execution_count": 5,
   "id": "09a70140-ea7b-43f4-9952-7243b2ef705f",
   "metadata": {},
   "outputs": [
    {
     "data": {
      "text/plain": [
       "[{'fps': 23, 'height': 1080, 'width': 1920}]"
      ]
     },
     "execution_count": 5,
     "metadata": {},
     "output_type": "execute_result"
    }
   ],
   "source": [
    "mdb.get_movie_metadata('Movies/114208777')"
   ]
  },
  {
   "cell_type": "code",
   "execution_count": 6,
   "id": "6e9f1fa0-8649-4fcf-b378-98d7dd8c7734",
   "metadata": {},
   "outputs": [
    {
     "data": {
      "text/plain": [
       "[[0, 33], [33, 48]]"
      ]
     },
     "execution_count": 6,
     "metadata": {},
     "output_type": "execute_result"
    }
   ],
   "source": [
    "mdb.get_scene_elements('Movies/114208777')"
   ]
  },
  {
   "cell_type": "code",
   "execution_count": 7,
   "id": "0ebf1d83-7751-4e6c-804d-f01da7ced37c",
   "metadata": {},
   "outputs": [
    {
     "data": {
      "text/plain": [
       "{'_key': '114208777',\n",
       " '_id': 'Movies/114208777',\n",
       " '_rev': '_dZee3gi---',\n",
       " 'movie_id': '772c4bb7dbc741fb99ca9291db5a7893',\n",
       " 'file_name': '1047_Defiance_01_08_28_259-01_08_29_433.avi',\n",
       " 'movie_name': '1047_Defiance_01_08_28_259-01_08_29_433',\n",
       " 'description': '1047_Defiance_01_08_28_259-01_08_29_433',\n",
       " 'tags': ['lsmdc', 'pegasus', 'visual genome'],\n",
       " 'full_path': '/dataset/development/1047_Defiance_01_08_28_259-01_08_29_433.mp4',\n",
       " 'url_path': 'static/development/1047_Defiance_01_08_28_259-01_08_29_433.mp4',\n",
       " 'last_frame': 300,\n",
       " 'scenes': [[0, 48]],\n",
       " 'scene_elements': [[0, 33], [33, 48]],\n",
       " 'mdfs': [[3, 29, 30], [35, 40, 46]],\n",
       " 'meta': {'fps': 23, 'height': 1080, 'width': 1920},\n",
       " 'updates': 4,\n",
       " 'status': 'updated'}"
      ]
     },
     "execution_count": 7,
     "metadata": {},
     "output_type": "execute_result"
    }
   ],
   "source": [
    "mdb.get_movie('Movies/114208777')"
   ]
  },
  {
   "cell_type": "code",
   "execution_count": 8,
   "id": "be08d314-b4f5-4c5a-8550-d34991194ddd",
   "metadata": {},
   "outputs": [
    {
     "data": {
      "text/plain": [
       "[[3, 29, 30], [35, 40, 46]]"
      ]
     },
     "execution_count": 8,
     "metadata": {},
     "output_type": "execute_result"
    }
   ],
   "source": [
    "mdb.get_mdfs('Movies/114208777')"
   ]
  },
  {
   "cell_type": "code",
   "execution_count": 2,
   "id": "84b455f3-fedd-4352-b115-66774d44224e",
   "metadata": {},
   "outputs": [
    {
     "name": "stdout",
     "output_type": "stream",
     "text": [
      "Milvus Collection Loaded:  test\n"
     ]
    }
   ],
   "source": [
    "mlv = MilvusAPI('milvus', 'test', 'nebula_development', 512)"
   ]
  },
  {
   "cell_type": "code",
   "execution_count": 3,
   "id": "65bc7d59-8768-4329-a75b-72602e18f832",
   "metadata": {},
   "outputs": [],
   "source": [
    "mlv.drop_database()"
   ]
  },
  {
   "cell_type": "code",
   "execution_count": null,
   "id": "ed46f428-ed8a-49ef-b7f7-9a1eb94be394",
   "metadata": {},
   "outputs": [],
   "source": []
  }
 ],
 "metadata": {
  "kernelspec": {
   "display_name": "Python 3 (ipykernel)",
   "language": "python",
   "name": "python3"
  },
  "language_info": {
   "codemirror_mode": {
    "name": "ipython",
    "version": 3
   },
   "file_extension": ".py",
   "mimetype": "text/x-python",
   "name": "python",
   "nbconvert_exporter": "python",
   "pygments_lexer": "ipython3",
   "version": "3.10.4"
  }
 },
 "nbformat": 4,
 "nbformat_minor": 5
}

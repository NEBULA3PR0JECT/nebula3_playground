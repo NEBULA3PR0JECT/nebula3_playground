{
 "cells": [
  {
   "cell_type": "code",
   "execution_count": null,
   "id": "7fdc607a",
   "metadata": {},
   "outputs": [],
   "source": [
    "import sys\n",
    "sys.path.insert(0, \"/notebooks/pipenv\")\n",
    "sys.path.insert(0, \"/notebooks/nebula3_database\")\n",
    "sys.path.insert(0, \"/notebooks/nebula3_vlm\")"
   ]
  },
  {
   "cell_type": "code",
   "execution_count": null,
   "id": "6a47f18b-1b91-4a42-8f4c-b1a5423de498",
   "metadata": {},
   "outputs": [],
   "source": [
    "from database.arangodb import DatabaseConnector\n",
    "from database.milvus import MilvusAPI\n",
    "from movie_db import MOVIE_DB\n",
    "import glob\n",
    "mdb = MOVIE_DB()"
   ]
  },
  {
   "cell_type": "code",
   "execution_count": null,
   "id": "ed46f428-ed8a-49ef-b7f7-9a1eb94be394",
   "metadata": {},
   "outputs": [],
   "source": [
    "story_files = (glob.glob(\"/VIST/VST/Text/*\")) \n",
    "stories = []\n",
    "for story in story_files:\n",
    "    with open(story) as f:\n",
    "        lines = f.readlines()\n",
    "        file_name = lines[0]\n",
    "        #print(file_name)\n",
    "        #scene_element = {}\n",
    "        scene_elements = []\n",
    "        for line in lines[1:]:\n",
    "            from_ = line.split()[0]\n",
    "            to_ = line.split()[1] \n",
    "            sentence_ = line.split()[2:]\n",
    "            sentence = ' '.join(sentence_)\n",
    "            scene_element = {\n",
    "                'from': from_,\n",
    "                'to': to_,\n",
    "                'sentence': sentence\n",
    "            }\n",
    "            scene_elements.append(scene_element)\n",
    "        story_ = {\n",
    "            'file_name': file_name,\n",
    "            'scene_elements': scene_elements\n",
    "        }\n",
    "        stories.append(story_)\n",
    "        #input()"
   ]
  },
  {
   "cell_type": "code",
   "execution_count": null,
   "id": "0cc4d4c0",
   "metadata": {},
   "outputs": [],
   "source": [
    "for s in stories:    \n",
    "    print(s)\n"
   ]
  }
 ],
 "metadata": {
  "kernelspec": {
   "display_name": "Python 3 (ipykernel)",
   "language": "python",
   "name": "python3"
  },
  "language_info": {
   "codemirror_mode": {
    "name": "ipython",
    "version": 3
   },
   "file_extension": ".py",
   "mimetype": "text/x-python",
   "name": "python",
   "nbconvert_exporter": "python",
   "pygments_lexer": "ipython3",
   "version": "3.10.4"
  }
 },
 "nbformat": 4,
 "nbformat_minor": 5
}

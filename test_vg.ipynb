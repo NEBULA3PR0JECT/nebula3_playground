{
 "cells": [
  {
   "cell_type": "code",
   "execution_count": 2,
   "id": "17c42e97-456a-4d11-8535-11d1ff04dc67",
   "metadata": {},
   "outputs": [],
   "source": [
    "import sys\n",
    "sys.path.insert(0, \"/notebooks/pipenv\")\n",
    "sys.path.insert(0, \"/notebooks/nebula3_database\")\n",
    "sys.path.insert(0, \"/notebooks/\")\n",
    "from PIL import Image\n",
    "import requests\n",
    "import visual_genome.local as vg\n",
    "import json\n",
    "import copy\n",
    "import subprocess\n",
    "\n",
    "import numpy as np\n",
    "import torch\n",
    "import spacy\n",
    "import nltk\n",
    "from spacy_wordnet.wordnet_annotator import WordnetAnnotator \n",
    "from sentence_transformers import SentenceTransformer\n",
    "from database.arangodb import DatabaseConnector\n",
    "from config import NEBULA_CONF\n"
   ]
  },
  {
   "cell_type": "code",
   "execution_count": 3,
   "id": "eb80c89a-3b57-4d5b-94d2-45fe46d8f28b",
   "metadata": {},
   "outputs": [
    {
     "name": "stdout",
     "output_type": "stream",
     "text": [
      "[nltk_data] Downloading package wordnet to /root/nltk_data...\n",
      "[nltk_data]   Package wordnet is already up-to-date!\n"
     ]
    },
    {
     "data": {
      "text/plain": [
       "<spacy_wordnet.wordnet_annotator.WordnetAnnotator at 0x7f330c15dc60>"
      ]
     },
     "execution_count": 3,
     "metadata": {},
     "output_type": "execute_result"
    }
   ],
   "source": [
    "nltk.download('wordnet')\n",
    "nlp = spacy.load('en_core_web_lg')\n",
    "nlp.add_pipe(\"spacy_wordnet\", after='tagger', config={'lang': nlp.lang})"
   ]
  },
  {
   "cell_type": "code",
   "execution_count": 20,
   "id": "1b13a08d-86d2-4bc4-b9fb-f6cdafc72929",
   "metadata": {},
   "outputs": [],
   "source": [
    "VG_DATA = '/storage/vg_data'\n",
    "IPC_COLLECTION = 'ipc_relations_spice'"
   ]
  },
  {
   "cell_type": "code",
   "execution_count": 5,
   "id": "82fa6b62",
   "metadata": {},
   "outputs": [],
   "source": [
    "class PIPELINE:\n",
    "    def __init__(self):\n",
    "        config = NEBULA_CONF()\n",
    "        self.db_host = config.get_database_host()\n",
    "        self.database = config.get_playground_name()\n",
    "        self.gdb = DatabaseConnector()\n",
    "        self.db = self.gdb.connect_db(self.database)\n",
    "\n",
    "pipeline = PIPELINE()"
   ]
  },
  {
   "cell_type": "code",
   "execution_count": 6,
   "id": "5441d41a-01de-469f-888d-5ca0b1ecb884",
   "metadata": {},
   "outputs": [],
   "source": [
    "def cosine_sim(x,y):\n",
    "    return np.dot(x,y) / (np.linalg.norm(x)*np.linalg.norm(y))\n",
    "\n",
    "def compare_cross_lists(l1, l2):\n",
    "    return np.any([x in l2 for x in l1])\n",
    "\n",
    "class SimilarityManager:\n",
    "    def __init__(self):\n",
    "        self.nlp = nlp\n",
    "        self.similarity_model = SentenceTransformer('sentence-transformers/paraphrase-xlm-r-multilingual-v1')\n",
    "        self.similarity_model.cuda()\n",
    "\n",
    "    def similarity(self, src, target):\n",
    "        rc = []\n",
    "        s1 = self.nlp(src)\n",
    "        s2 = self.nlp(target)\n",
    "        for w in s1:\n",
    "            if w.pos_ not in ['NOUN', 'ADJ', 'ADV', 'VERB', 'PROPN'] and len(s1)>1:\n",
    "                continue\n",
    "            rc.append(max([w.similarity(x) for x in s2]))\n",
    "        return np.mean(rc)\n",
    "    \n",
    "    def compare_cross_synsets(self, text1, text2):\n",
    "        t1 = self.nlp(text1)\n",
    "        t2 = self.nlp(text2)\n",
    "        return compare_cross_lists([x._.wordnet.synsets() for x in t1], [x._.wordnet.synsets() for x in t2])\n",
    "    \n",
    "    def compare_triplet(self, t1, t2, method='spacy'):\n",
    "        if len(t1) != len(t2):\n",
    "            return 0.\n",
    "        sim = 1.\n",
    "        if method=='bert':\n",
    "            embs = self.similarity_model.encode([' '.join(t1).lower(), ' '.join(t2).lower()])\n",
    "            sim = cosine_sim(*embs)\n",
    "        else:\n",
    "            for x,y in zip(t1,t2):\n",
    "                if method=='wordnet':\n",
    "                    sim *= self.compare_cross_synsets(x,y)\n",
    "                elif method=='spacy':\n",
    "                    sim *= self.similarity(x,y)\n",
    "                else:\n",
    "                    print(\"Unknown similarity method: {}\".format(method))\n",
    "        return sim\n",
    "\n",
    "        \n",
    "smanager = SimilarityManager()"
   ]
  },
  {
   "cell_type": "code",
   "execution_count": 7,
   "id": "26bfb591-fcab-46d0-afe0-83daa8f54167",
   "metadata": {},
   "outputs": [],
   "source": [
    "def triplet_from_rel(rel):\n",
    "    return (rel.subject.names[0], rel.predicate, rel.object.names[0])"
   ]
  },
  {
   "cell_type": "code",
   "execution_count": 8,
   "id": "0348a542-11f1-4156-abd7-ce9ac902cbf9",
   "metadata": {},
   "outputs": [],
   "source": [
    "def get_sc_graph(id):\n",
    "    return vg.get_scene_graph(id, images=VG_DATA,\n",
    "                    image_data_dir=VG_DATA+'/by-id/',\n",
    "                    synset_file=VG_DATA+'/synsets.json')\n",
    "freeze_dict = lambda d: tuple((k, d[k]) for k in sorted(d.keys()))\n",
    "rel_to_triplet = lambda rel: (rel['subject'].id, rel['predicate'], rel['object'].id)"
   ]
  },
  {
   "cell_type": "code",
   "execution_count": 9,
   "id": "ce6bffbc-f522-4590-bd40-9f6605b4fdae",
   "metadata": {},
   "outputs": [],
   "source": [
    "# vg.add_attrs_to_scene_graphs(data_dir=VG_DATA)\n",
    "# vg.save_scene_graphs_by_id(data_dir=VG_DATA, image_data_dir=VG_DATA+'/by-id/')"
   ]
  },
  {
   "cell_type": "code",
   "execution_count": 10,
   "id": "772f1138-6f4d-474f-aeb1-6e462818f35f",
   "metadata": {},
   "outputs": [],
   "source": [
    "ipc_data = json.load(open('/storage/ipc_data/paragraphs_v1.json','r'))"
   ]
  },
  {
   "cell_type": "code",
   "execution_count": 19,
   "id": "24257ea2-7485-49f4-8400-e0cd03d77389",
   "metadata": {},
   "outputs": [
    {
     "data": {
      "text/plain": [
       "(19561,\n",
       " {'url': 'https://cs.stanford.edu/people/rak248/VG_100K_2/2383120.jpg',\n",
       "  'image_id': 2383120,\n",
       "  'paragraph': 'A very clean and tidy a bathroom. Everything is a neat porcelain white. This bathroom is both retro and modern.'})"
      ]
     },
     "execution_count": 19,
     "metadata": {},
     "output_type": "execute_result"
    }
   ],
   "source": [
    "len(ipc_data), ipc_data[4]"
   ]
  },
  {
   "cell_type": "code",
   "execution_count": 12,
   "id": "20137e48-44e0-4851-ae00-3cd735966931",
   "metadata": {},
   "outputs": [],
   "source": [
    "# src: A single triplet\n",
    "# dst: A list of triplets\n",
    "\n",
    "def recall_triplet(src, dst, **kwargs):\n",
    "    if not dst:\n",
    "        return 0.    \n",
    "    scores = [smanager.compare_triplet(src,x, **kwargs) for x in dst]\n",
    "    return max(scores)\n",
    "\n",
    "#src: A list of triplets\n",
    "#dst: A list of triplets\n",
    "def recall_triplets(src, dst, **kwargs):\n",
    "    rc = [recall_triplet(x,dst, **kwargs) for x in src]\n",
    "    return rc\n",
    "    # return np.mean(rc)\n",
    "\n",
    "def recall_paragraph_sg(paragraph, sg, methods=('wordnet', 'wordnet', 'bert')):\n",
    "    ipc_triplets = spice_get_triplets(paragraph)\n",
    "    rel_triplets = list(map(triplet_from_rel,sg.relationships))\n",
    "    total_recall = []\n",
    "    for i in [1,2,3]:\n",
    "        ipc_i = [x for x in ipc_triplets if len(x)==i]\n",
    "        rel_i = [x for x in rel_triplets if len(x)==i]\n",
    "        total_recall.extend(recall_triplets(rel_i,ipc_i,method=methods[i-1]))\n",
    "    return total_recall    "
   ]
  },
  {
   "cell_type": "code",
   "execution_count": 13,
   "id": "cdfd7c33-9f8f-4b21-ace2-74d755da9515",
   "metadata": {},
   "outputs": [],
   "source": [
    "def produce_pair(ipc_num: int):\n",
    "    ipc = ipc_data[ipc_num]\n",
    "    sg = get_sc_graph(ipc['image_id'])\n",
    "    print(\"Paragraph is:\")\n",
    "    print(ipc['paragraph'])\n",
    "    for rel in sg.relationships:\n",
    "        print(\"Processing: \"+str(rel))\n",
    "        print(\"Subject is: {}\".format(rel.subject.names))\n",
    "        sim = smanager.similarity(rel.subject.names[0],ipc['paragraph'])\n",
    "        print(\"Similarity: {}\".format(sim))\n",
    "        "
   ]
  },
  {
   "cell_type": "code",
   "execution_count": 14,
   "id": "8452b2d3-2c18-49e6-ac21-9d7eb23df954",
   "metadata": {},
   "outputs": [],
   "source": [
    "def spice_get_triplets(text):\n",
    "    SPICE_FNAME = '/notebooks/SPICE-1.0/spice-1.0.jar'\n",
    "    INP_FNAME = '/tmp/example.json'\n",
    "    OUT_FNAME = '/tmp/example_output.json'\n",
    "    inp = {\n",
    "        'image_id': 1,\n",
    "        'test': \"\",\n",
    "        'refs': [text],        \n",
    "    }\n",
    "    json.dump([inp],open(INP_FNAME,'w'))\n",
    "    p = subprocess.Popen('java -Xmx8G -jar {} {} -detailed -silent -subset -out {}'.format(SPICE_FNAME,INP_FNAME,OUT_FNAME),shell=True,\n",
    "                        stdin=subprocess.PIPE,\n",
    "                        stdout=subprocess.PIPE,\n",
    "                        stderr=subprocess.PIPE)\n",
    "    p.communicate()\n",
    "    outp = json.load(open(OUT_FNAME,'r'))\n",
    "    return [x['tuple'] for x in outp[0]['ref_tuples']]\n",
    "    "
   ]
  },
  {
   "cell_type": "code",
   "execution_count": 25,
   "id": "a83f6209",
   "metadata": {},
   "outputs": [],
   "source": [
    "def check_ipc_id(id):\n",
    "    results = {}\n",
    "    query = 'FOR doc IN {} FILTER doc.image_id == {} RETURN doc'.format(IPC_COLLECTION,id)\n",
    "    #print(query)\n",
    "    cursor = pipeline.db.aql.execute(query)\n",
    "    for doc in cursor:\n",
    "        results.update(doc)\n",
    "    return results\n",
    "\n",
    "def process_ipc(ipc):\n",
    "    ipc['triplets'] = spice_get_triplets(ipc['paragraph'])\n",
    "    return ipc\n",
    "\n",
    "def process_all_ipc(all_ipc):\n",
    "    for i,ipc in enumerate(all_ipc):\n",
    "        if check_ipc_id(ipc['image_id']):\n",
    "            print('idx {}, image_id: {} already exists. Moving on.'.format(i,ipc['image_id']))\n",
    "            continue\n",
    "        rc_doc = process_ipc(ipc)\n",
    "        rc_doc['idx'] = i\n",
    "        query = \"INSERT {} INTO {}\".format(rc_doc,IPC_COLLECTION)\n",
    "        cursor = pipeline.db.aql.execute(query) \n"
   ]
  },
  {
   "cell_type": "code",
   "execution_count": 30,
   "id": "2191cb2a-9581-4685-87eb-8cfada14ca50",
   "metadata": {},
   "outputs": [],
   "source": [
    "rc1 = spice_get_triplets(\"A man is wearing a hat and riding a skateboard. He is holding a guitar. He is on the sidewalk next to a street with several cars parked on it\")\n",
    "rc2 = spice_get_triplets(\"A man is wearing a hat and riding a skateboard, he is holding a guitar, he is on the sidewalk next to a street with several cars parked on it\")\n",
    "\n",
    "# rc2 = spice_get_triplets(\"a slow white fox jumped over the red fence\")"
   ]
  },
  {
   "cell_type": "code",
   "execution_count": 31,
   "id": "203c19d9",
   "metadata": {},
   "outputs": [
    {
     "data": {
      "text/plain": [
       "[['car'],\n",
       " ['car', 'park on', 'sidewalk'],\n",
       " ['car', 'several'],\n",
       " ['guitar'],\n",
       " ['hat'],\n",
       " ['man'],\n",
       " ['man', 'ride', 'skateboard'],\n",
       " ['man', 'wear', 'hat'],\n",
       " ['sidewalk'],\n",
       " ['sidewalk', 'next to', 'street'],\n",
       " ['skateboard'],\n",
       " ['street'],\n",
       " ['street', 'with', 'car']]"
      ]
     },
     "execution_count": 31,
     "metadata": {},
     "output_type": "execute_result"
    }
   ],
   "source": [
    "rc1"
   ]
  },
  {
   "cell_type": "code",
   "execution_count": 32,
   "id": "dfd21e70",
   "metadata": {},
   "outputs": [
    {
     "data": {
      "text/plain": [
       "[['car'],\n",
       " ['car', 'park on', 'man'],\n",
       " ['car', 'several'],\n",
       " ['guitar'],\n",
       " ['hat'],\n",
       " ['man'],\n",
       " ['man', 'hold', 'guitar'],\n",
       " ['man', 'on', 'sidewalk'],\n",
       " ['man', 'ride', 'skateboard'],\n",
       " ['man', 'wear', 'hat'],\n",
       " ['sidewalk'],\n",
       " ['sidewalk', 'next to', 'street'],\n",
       " ['skateboard'],\n",
       " ['street'],\n",
       " ['street', 'with', 'car']]"
      ]
     },
     "execution_count": 32,
     "metadata": {},
     "output_type": "execute_result"
    }
   ],
   "source": [
    "rc2"
   ]
  },
  {
   "cell_type": "code",
   "execution_count": null,
   "id": "150bb44b-0060-4836-931e-cd16f566f290",
   "metadata": {},
   "outputs": [],
   "source": [
    "[recall_triplet(x,rc2, use_synsets=True) for x in rc1]"
   ]
  },
  {
   "cell_type": "code",
   "execution_count": 15,
   "id": "d24149d2-f49a-4102-87ed-2c53b344b205",
   "metadata": {},
   "outputs": [],
   "source": [
    "i = 4     # Problem in i=4\n",
    "ipc = ipc_data[i]\n",
    "sg = get_sc_graph(ipc['image_id'])\n",
    "rc = recall_paragraph_sg(ipc['paragraph'],sg)"
   ]
  },
  {
   "cell_type": "code",
   "execution_count": 28,
   "id": "c7fa74b1-863e-40be-9051-9eeb966bc901",
   "metadata": {},
   "outputs": [
    {
     "name": "stdout",
     "output_type": "stream",
     "text": [
      "idx 0, image_id: 2356347 already exists. Moving on.\n",
      "idx 1, image_id: 2317429 already exists. Moving on.\n",
      "idx 2, image_id: 2414610 already exists. Moving on.\n",
      "idx 3, image_id: 2365091 already exists. Moving on.\n",
      "idx 4, image_id: 2383120 already exists. Moving on.\n",
      "idx 456, image_id: 2349250 already exists. Moving on.\n",
      "idx 3035, image_id: 2340853 already exists. Moving on.\n",
      "idx 3446, image_id: 2408653 already exists. Moving on.\n",
      "idx 6675, image_id: 2412652 already exists. Moving on.\n",
      "idx 7090, image_id: 2363167 already exists. Moving on.\n",
      "idx 7152, image_id: 2377108 already exists. Moving on.\n",
      "idx 8003, image_id: 2385924 already exists. Moving on.\n",
      "idx 8307, image_id: 2414810 already exists. Moving on.\n",
      "idx 8469, image_id: 2370496 already exists. Moving on.\n",
      "idx 9207, image_id: 2327869 already exists. Moving on.\n"
     ]
    }
   ],
   "source": [
    "process_all_ipc(ipc_data)    \n"
   ]
  },
  {
   "cell_type": "code",
   "execution_count": null,
   "id": "3c6141f6-7a75-4746-bba8-289fd2263b51",
   "metadata": {},
   "outputs": [],
   "source": [
    "ipc_triplets = spice_get_triplets(ipc_data[4]['paragraph'])"
   ]
  },
  {
   "cell_type": "code",
   "execution_count": null,
   "id": "ae7eaf42-d969-4b61-b2dc-495bcb95e935",
   "metadata": {},
   "outputs": [],
   "source": [
    "ipc_data[4]['paragraph']"
   ]
  },
  {
   "cell_type": "code",
   "execution_count": null,
   "id": "8c758530-0215-4c8f-8419-b52469f4248c",
   "metadata": {},
   "outputs": [],
   "source": [
    "z1 = [recall_triplet(x,ipc_triplets, method='spacy') for x in rel_triplets]\n",
    "z2 = [recall_triplet(x,ipc_triplets, method='wordnet') for x in rel_triplets]\n",
    "z3 = [recall_triplet(x,ipc_triplets, method='bert') for x in rel_triplets]"
   ]
  },
  {
   "cell_type": "code",
   "execution_count": null,
   "id": "93a196c1-d574-4665-8678-966382706375",
   "metadata": {},
   "outputs": [],
   "source": [
    "np.mean(z1), np.mean(z2), np.mean(z3)"
   ]
  },
  {
   "cell_type": "code",
   "execution_count": null,
   "id": "ee4b81d5-e00e-46e4-adaf-acde71ffaeae",
   "metadata": {},
   "outputs": [],
   "source": [
    "[x for x in ipc_triplets if len(x)==3]"
   ]
  },
  {
   "cell_type": "code",
   "execution_count": null,
   "id": "b32ad3d6-0e8d-4e76-a552-5fe6dc2ad2e0",
   "metadata": {},
   "outputs": [],
   "source": [
    "rels = copy.deepcopy([x.__dict__ for x in sg.relationships])"
   ]
  },
  {
   "cell_type": "code",
   "execution_count": null,
   "id": "b425b534-bb7e-4dca-9f9f-0d98bd4e9df9",
   "metadata": {},
   "outputs": [],
   "source": [
    "for r in rels:\n",
    "    del r['id']"
   ]
  },
  {
   "cell_type": "code",
   "execution_count": null,
   "id": "3b91d8f4-590d-4b67-9369-2bd197f05241",
   "metadata": {},
   "outputs": [],
   "source": [
    "len(set([rel_to_triplet(x) for x in rels]))"
   ]
  },
  {
   "cell_type": "code",
   "execution_count": null,
   "id": "86addfad-800d-474e-988e-0498886da867",
   "metadata": {},
   "outputs": [],
   "source": []
  }
 ],
 "metadata": {
  "kernelspec": {
   "display_name": "Python 3.10.5 ('nebula')",
   "language": "python",
   "name": "python3"
  },
  "language_info": {
   "codemirror_mode": {
    "name": "ipython",
    "version": 3
   },
   "file_extension": ".py",
   "mimetype": "text/x-python",
   "name": "python",
   "nbconvert_exporter": "python",
   "pygments_lexer": "ipython3",
   "version": "3.10.5"
  },
  "vscode": {
   "interpreter": {
    "hash": "dafab0f5b0f2e0b482ce484a64bf4a63ea947b97362cb54784af04b5754b7b41"
   }
  }
 },
 "nbformat": 4,
 "nbformat_minor": 5
}

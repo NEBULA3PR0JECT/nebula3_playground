{
 "cells": [
  {
   "cell_type": "code",
   "execution_count": null,
   "metadata": {},
   "outputs": [],
   "source": [
    "from sumproduct import Variable, Factor, FactorGraph\n",
    "import numpy as np\n"
   ]
  },
  {
   "cell_type": "code",
   "execution_count": 1,
   "metadata": {},
   "outputs": [],
   "source": [
    "# factors: an array of 2d factor matrices, for x12, x23, ..., where dimensions are x1*x2, x2*x3, ...\n",
    "\n",
    "def create_2chain_graph(factors):\n",
    "    g = FactorGraph(silent=True)  # init the graph without message printouts\n",
    "    num_vars = len(factors)+1\n",
    "    vars = []\n",
    "    vnames = []\n",
    "    gvars = []\n",
    "    for i in range(len(factors)-1):\n",
    "        assert factors[i].shape[1] == factors[i+1].shape[0]\n",
    "        vars.append(factors[i].shape[0])\n",
    "    vars.append(factors[-1].shape[0])\n",
    "    vars.append(factors[-1].shape[1])\n",
    "    for i, v_size in enumerate(vars):\n",
    "        vname = 'x'+str(i+1)\n",
    "        v = Variable(vname, v_size)\n",
    "        vnames.append(vname)\n",
    "        gvars.append(v)\n",
    "\n",
    "    for i in range(len(gvars)-1):\n",
    "        fname = 'f{}{}'.format(i+1, i+2)\n",
    "        # factors are transposed, from x2 to x1, etc'\n",
    "        fact = Factor(fname, factors[i].transpose())\n",
    "        g.add(fact)\n",
    "        g.append(fname, gvars[i+1])\n",
    "        g.append(fname, gvars[i])\n",
    "\n",
    "    return g, vnames\n",
    "\n",
    "\n",
    "def compute_2chain_marginals(factors):\n",
    "    g, vnames = create_2chain_graph(factors)\n",
    "    g.compute_marginals(max_iter=15500, tolerance=1e-8)\n",
    "    rc = []\n",
    "    for vname in vnames:\n",
    "        rc.append(g.nodes[vname].marginal())\n",
    "    return rc\n"
   ]
  },
  {
   "cell_type": "code",
   "execution_count": null,
   "metadata": {},
   "outputs": [],
   "source": []
  }
 ],
 "metadata": {
  "interpreter": {
   "hash": "81659e6749bd448eb98ef38ebfb2dfb8b46cc38c7b5964e0af9bc9d92d329852"
  },
  "kernelspec": {
   "display_name": "Python 3.9.12 ('factor')",
   "language": "python",
   "name": "python3"
  },
  "language_info": {
   "codemirror_mode": {
    "name": "ipython",
    "version": 3
   },
   "file_extension": ".py",
   "mimetype": "text/x-python",
   "name": "python",
   "nbconvert_exporter": "python",
   "pygments_lexer": "ipython3",
   "version": "3.9.12"
  },
  "orig_nbformat": 4
 },
 "nbformat": 4,
 "nbformat_minor": 2
}

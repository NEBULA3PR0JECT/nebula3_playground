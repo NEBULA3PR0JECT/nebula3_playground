{
 "cells": [
  {
   "cell_type": "code",
   "execution_count": null,
   "metadata": {},
   "outputs": [],
   "source": [
    "import sys\n",
    "sys.path.insert(0, \"/notebooks\")\n",
    "sys.path.insert(0, \"/notebooks/pipenv\")\n",
    "sys.path.insert(0, \"/notebooks/nebula3_database\")\n",
    "from torch.nn.functional import softmax\n",
    "from transformers import BertTokenizer, BertForNextSentencePrediction\n",
    "import torch\n",
    "import random\n",
    "import csv\n",
    "import numpy as np\n",
    "from sumproduct import Variable, Factor, FactorGraph\n",
    "import pickle\n"
   ]
  },
  {
   "cell_type": "code",
   "execution_count": null,
   "metadata": {},
   "outputs": [],
   "source": [
    "tokenizer = BertTokenizer.from_pretrained('bert-base-uncased')\n",
    "model = BertForNextSentencePrediction.from_pretrained('bert-base-uncased')\n",
    "device = \"cuda:0\"\n",
    "model = model.to(device)"
   ]
  },
  {
   "cell_type": "code",
   "execution_count": null,
   "metadata": {},
   "outputs": [],
   "source": [
    "def load_stories(dataset = 'roc'):\n",
    "    if dataset ==  'roc':\n",
    "        stories = []\n",
    "        with open(\"1000ROC.csv\") as file:\n",
    "            tsv_file = csv.reader(file, delimiter=\",\")\n",
    "            for line in tsv_file:\n",
    "                #print(line)\n",
    "                line.pop(0)\n",
    "                #print(line)\n",
    "                line.pop(0)\n",
    "                stories.append(line)\n",
    "    return(stories)"
   ]
  },
  {
   "cell_type": "code",
   "execution_count": null,
   "metadata": {},
   "outputs": [],
   "source": [
    "def create_stories(stories):\n",
    "    stories_with_candidates = []\n",
    "    for story in stories:\n",
    "        story_length = len(story) - 1\n",
    "        corpus_length = len(stories) -1\n",
    "        scenes = []\n",
    "        #print(orig_story[0])\n",
    "        for sentence in story:\n",
    "            candidates = []\n",
    "            candidates.append(sentence)\n",
    "            for candidate in range(0, random.randint(3, 10 )):\n",
    "                cand_sent = random.randint(0, story_length)\n",
    "                cand_story = random.randint(0, corpus_length)\n",
    "                candidates.append(stories[cand_story][cand_sent])\n",
    "            scenes.append(candidates)\n",
    "        stories_with_candidates.append(scenes)\n",
    "    return(stories_with_candidates)"
   ]
  },
  {
   "cell_type": "code",
   "execution_count": null,
   "metadata": {},
   "outputs": [],
   "source": [
    "def story_compatability(scene1, scene2):\n",
    "    rows_ = []\n",
    "    for sent_a in scene1:\n",
    "        cols_ = []\n",
    "        for sent_b in scene2:\n",
    "            encoded = tokenizer.encode_plus(sent_a, sent_b, return_tensors='pt').to(device)\n",
    "            seq_relationship_logits = model(**encoded)[0]\n",
    "            probs = softmax(seq_relationship_logits, dim=1)\n",
    "            score = probs[0][0].tolist()\n",
    "            cols_.append(score)\n",
    "        rows_.append(cols_)\n",
    "    return(np.array(rows_))"
   ]
  },
  {
   "cell_type": "code",
   "execution_count": null,
   "metadata": {},
   "outputs": [],
   "source": [
    "stories = load_stories('roc')\n",
    "candidated_stories = create_stories(stories)\n",
    "stories_with_scores = []\n",
    "for story in candidated_stories:\n",
    "    scenes_scores = []\n",
    "    for idx in range(0, len(story) -1):\n",
    "        scene1 = story[idx]\n",
    "        scene2 = story[idx + 1]\n",
    "        scene_matrix = story_compatability(scene1, scene2)\n",
    "        scenes_scores.append(scene_matrix)\n",
    "    storie_with_scores = {\n",
    "        'story': story,\n",
    "        'scores': scenes_scores\n",
    "    }\n",
    "\n",
    "    stories_with_scores.append(storie_with_scores)\n",
    "    "
   ]
  },
  {
   "cell_type": "code",
   "execution_count": null,
   "metadata": {},
   "outputs": [],
   "source": [
    "with open('roc1k.pickle', 'wb') as handle:\n",
    "    pickle.dump(stories_with_scores, handle, protocol=pickle.HIGHEST_PROTOCOL)\n"
   ]
  },
  {
   "cell_type": "code",
   "execution_count": null,
   "metadata": {},
   "outputs": [],
   "source": [
    "# for i in stories_with_scores:\n",
    "#     print(i)"
   ]
  },
  {
   "cell_type": "code",
   "execution_count": null,
   "metadata": {},
   "outputs": [],
   "source": [
    "stories_with_scores_saved = pickle.load( open( \"roc10.pickle\", \"rb\" ) )"
   ]
  },
  {
   "cell_type": "code",
   "execution_count": null,
   "metadata": {},
   "outputs": [],
   "source": [
    "# factors: an array of 2d factor matrices, for x12, x23, ..., where dimensions are x1*x2, x2*x3, ...\n",
    "\n",
    "def create_2chain_graph(factors):\n",
    "    g = FactorGraph(silent=True)  # init the graph without message printouts\n",
    "    num_vars = len(factors)+1\n",
    "    vars = []\n",
    "    vnames = []\n",
    "    gvars = []\n",
    "    for i in range(len(factors)-1):\n",
    "        assert factors[i].shape[1] == factors[i+1].shape[0]\n",
    "        vars.append(factors[i].shape[0])\n",
    "    vars.append(factors[-1].shape[0])\n",
    "    vars.append(factors[-1].shape[1])\n",
    "    for i, v_size in enumerate(vars):\n",
    "        vname = 'x'+str(i+1)\n",
    "        v = Variable(vname, v_size)\n",
    "        vnames.append(vname)\n",
    "        gvars.append(v)\n",
    "\n",
    "    for i in range(len(gvars)-1):\n",
    "        fname = 'f{}{}'.format(i+1, i+2)\n",
    "        # factors are transposed, from x2 to x1, etc'\n",
    "        fact = Factor(fname, factors[i].transpose())\n",
    "        g.add(fact)\n",
    "        g.append(fname, gvars[i+1])\n",
    "        g.append(fname, gvars[i])\n",
    "\n",
    "    return g, vnames\n",
    "\n",
    "\n",
    "def compute_2chain_marginals(factors):\n",
    "    g, vnames = create_2chain_graph(factors)\n",
    "    g.compute_marginals(max_iter=15500, tolerance=1e-8)\n",
    "    rc = []\n",
    "    for vname in vnames:\n",
    "        rc.append(g.nodes[vname].marginal())\n",
    "    return rc\n"
   ]
  },
  {
   "cell_type": "code",
   "execution_count": null,
   "metadata": {},
   "outputs": [],
   "source": [
    "for story in stories_with_scores_saved:\n",
    "    rc = compute_2chain_marginals(story['scores'])\n",
    "    print('Story with candidates (First sentence is each array is good)')\n",
    "    print(story['story'])\n",
    "    print('BERT Scores')\n",
    "    print(story['scores'])\n",
    "    print('Marginals')\n",
    "    print(rc)"
   ]
  }
 ],
 "metadata": {
  "interpreter": {
   "hash": "dafab0f5b0f2e0b482ce484a64bf4a63ea947b97362cb54784af04b5754b7b41"
  },
  "kernelspec": {
   "display_name": "Python 3.10.4 64-bit ('nebula': conda)",
   "language": "python",
   "name": "python3"
  },
  "language_info": {
   "codemirror_mode": {
    "name": "ipython",
    "version": 3
   },
   "file_extension": ".py",
   "mimetype": "text/x-python",
   "name": "python",
   "nbconvert_exporter": "python",
   "pygments_lexer": "ipython3",
   "version": "3.10.4"
  },
  "orig_nbformat": 4
 },
 "nbformat": 4,
 "nbformat_minor": 2
}

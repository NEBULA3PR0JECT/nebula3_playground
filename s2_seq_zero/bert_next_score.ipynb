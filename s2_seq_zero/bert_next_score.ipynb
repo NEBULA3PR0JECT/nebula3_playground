{
 "cells": [
  {
   "cell_type": "code",
   "execution_count": null,
   "metadata": {},
   "outputs": [],
   "source": [
    "import sys\n",
    "sys.path.insert(0, \"/notebooks/pipenv\")\n",
    "sys.path.insert(0, \"/notebooks/nebula3_database\")\n",
    "from torch.nn.functional import softmax\n",
    "from transformers import BertTokenizer, BertForNextSentencePrediction\n",
    "import torch\n",
    "import random\n",
    "import csv\n",
    "\n",
    "tokenizer = BertTokenizer.from_pretrained('bert-base-uncased')\n",
    "model = BertForNextSentencePrediction.from_pretrained('bert-base-uncased')\n",
    "device = \"cuda:0\"\n",
    "model = model.to(device)"
   ]
  },
  {
   "cell_type": "code",
   "execution_count": null,
   "metadata": {},
   "outputs": [],
   "source": [
    "stories = []\n",
    "with open(\"1000ROC.csv\") as file:\n",
    "    tsv_file = csv.reader(file, delimiter=\",\")\n",
    "    for line in tsv_file:\n",
    "        #print(line)\n",
    "        line.pop(0)\n",
    "        #print(line)\n",
    "        line.pop(0)\n",
    "        stories.append(line)"
   ]
  },
  {
   "cell_type": "code",
   "execution_count": null,
   "metadata": {},
   "outputs": [],
   "source": [
    "stories_with_candidates = []\n",
    "for orig_story in stories:\n",
    "    story_length = len(orig_story) - 1\n",
    "    story_and_candidates = []\n",
    "    #print(orig_story[0])\n",
    "    for sentence in orig_story:\n",
    "        candidates = []\n",
    "        #print (\"BEFORE: \", orig_story)\n",
    "        sent1 = random.randint(0, story_length)\n",
    "        sent2 = random.randint(0, story_length)\n",
    "        sent3 = random.randint(0, story_length)\n",
    "        sent4 = random.randint(0, story_length)\n",
    "        story1 = random.randint(0, len(stories) -1)\n",
    "        story2 = random.randint(0, len(stories) -1)\n",
    "        story3 = random.randint(0, len(stories) -1)\n",
    "        story4 = random.randint(0, len(stories) -1)\n",
    "        candidates.append(sentence)\n",
    "        candidates.append(stories[story1][sent1])\n",
    "        candidates.append(stories[story2][sent2])\n",
    "        candidates.append(stories[story3][sent3])\n",
    "        candidates.append(stories[story4][sent4])\n",
    "        story_and_candidates.append(candidates)\n",
    "        #print (\"AFTER: \", orig_story)\n",
    "    stories_with_candidates.append(story_and_candidates)"
   ]
  },
  {
   "cell_type": "code",
   "execution_count": null,
   "metadata": {},
   "outputs": [],
   "source": [
    "print(stories_with_candidates)"
   ]
  },
  {
   "cell_type": "code",
   "execution_count": null,
   "metadata": {},
   "outputs": [],
   "source": [
    "def story_compatability(story):\n",
    "    result = 1.\n",
    "    for i in range(len(story)-1):\n",
    "        sent_a = story[i]\n",
    "        sent_b = story[i+1]\n",
    "        encoded = tokenizer.encode_plus(sent_a, sent_b, return_tensors='pt').to(device)\n",
    "        seq_relationship_logits = model(**encoded)[0]\n",
    "        probs = softmax(seq_relationship_logits, dim=1)\n",
    "        compt = probs[0][0].tolist()\n",
    "        result *= compt\n",
    "    return result"
   ]
  },
  {
   "cell_type": "code",
   "execution_count": null,
   "metadata": {},
   "outputs": [],
   "source": [
    "from tqdm import tqdm\n",
    "result1 = 0\n",
    "result2 = 0\n",
    "for story_one in tqdm(stories_with_candidates[:(len(stories) -1)]):\n",
    "    #print(\"Story \", story_one)\n",
    "    #input()\n",
    "    #shuf_story = story_one.copy()\n",
    "    #random.shuffle(shuf_story)\n",
    "    prob1 = story_compatability(story_one)\n",
    "    #if prob1 < 0.1:\n",
    "        #print(\"PROB1 \", story_one, \" \", prob1)\n",
    "    #print(prob)\n",
    "    #shuf_prob = story_compatability(shuf_story)\n",
    "    #print(shuf_prob)\n",
    "    prob2 = story_compatability_3(story_one)\n",
    "    #if prob2 < 0.1:\n",
    "        #print(\"PROB2 \", story_one, \" \", prob2)\n",
    "    result1 += prob1\n",
    "    result2 += prob2\n",
    "    #print(prob1)\n",
    "    #print(prob2)\n",
    "    #shuf_prob = story_compatability_3(shuf_story)\n",
    "    #print(shuf_prob)\n",
    "print (result1/(len(stories) -1))\n",
    "print (result2/(len(stories) -1))"
   ]
  }
 ],
 "metadata": {
  "interpreter": {
   "hash": "dafab0f5b0f2e0b482ce484a64bf4a63ea947b97362cb54784af04b5754b7b41"
  },
  "kernelspec": {
   "display_name": "Python 3.10.4 64-bit ('nebula': conda)",
   "language": "python",
   "name": "python3"
  },
  "language_info": {
   "codemirror_mode": {
    "name": "ipython",
    "version": 3
   },
   "file_extension": ".py",
   "mimetype": "text/x-python",
   "name": "python",
   "nbconvert_exporter": "python",
   "pygments_lexer": "ipython3",
   "version": "3.10.4"
  },
  "orig_nbformat": 4
 },
 "nbformat": 4,
 "nbformat_minor": 2
}

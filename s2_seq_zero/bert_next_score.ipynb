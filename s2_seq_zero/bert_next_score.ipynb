{
 "cells": [
  {
   "cell_type": "code",
   "execution_count": 5,
   "metadata": {},
   "outputs": [],
   "source": [
    "import sys\n",
    "sys.path.insert(0, \"/notebooks/pipenv\")\n",
    "sys.path.insert(0, \"/notebooks/nebula3_database\")\n",
    "from torch.nn.functional import softmax\n",
    "from transformers import BertTokenizer, BertForNextSentencePrediction\n",
    "import torch\n",
    "import random\n",
    "import csv\n",
    "import numpy as np\n",
    "import pickle"
   ]
  },
  {
   "cell_type": "code",
   "execution_count": 6,
   "metadata": {},
   "outputs": [
    {
     "name": "stderr",
     "output_type": "stream",
     "text": [
      "Some weights of the model checkpoint at bert-base-uncased were not used when initializing BertForNextSentencePrediction: ['cls.predictions.decoder.weight', 'cls.predictions.bias', 'cls.predictions.transform.LayerNorm.bias', 'cls.predictions.transform.LayerNorm.weight', 'cls.predictions.transform.dense.weight', 'cls.predictions.transform.dense.bias']\n",
      "- This IS expected if you are initializing BertForNextSentencePrediction from the checkpoint of a model trained on another task or with another architecture (e.g. initializing a BertForSequenceClassification model from a BertForPreTraining model).\n",
      "- This IS NOT expected if you are initializing BertForNextSentencePrediction from the checkpoint of a model that you expect to be exactly identical (initializing a BertForSequenceClassification model from a BertForSequenceClassification model).\n"
     ]
    }
   ],
   "source": [
    "tokenizer = BertTokenizer.from_pretrained('bert-base-uncased')\n",
    "model = BertForNextSentencePrediction.from_pretrained('bert-base-uncased')\n",
    "device = \"cuda:0\"\n",
    "model = model.to(device)"
   ]
  },
  {
   "cell_type": "code",
   "execution_count": 7,
   "metadata": {},
   "outputs": [],
   "source": [
    "def load_stories(dataset = 'roc'):\n",
    "    if dataset ==  'roc':\n",
    "        stories = []\n",
    "        with open(\"1000ROC.csv\") as file:\n",
    "            tsv_file = csv.reader(file, delimiter=\",\")\n",
    "            for line in tsv_file:\n",
    "                #print(line)\n",
    "                line.pop(0)\n",
    "                #print(line)\n",
    "                line.pop(0)\n",
    "                stories.append(line)\n",
    "    return(stories)"
   ]
  },
  {
   "cell_type": "code",
   "execution_count": 15,
   "metadata": {},
   "outputs": [],
   "source": [
    "def create_stories(stories):\n",
    "    stories_with_candidates = []\n",
    "    for story in stories:\n",
    "        story_length = len(story) - 1\n",
    "        corpus_length = len(stories) -1\n",
    "        scenes = []\n",
    "        #print(orig_story[0])\n",
    "        for sentence in story:\n",
    "            candidates = []\n",
    "            candidates.append(sentence)\n",
    "            for candidate in range(0, random.randint(3, 10 )):\n",
    "                cand_sent = random.randint(0, story_length)\n",
    "                cand_story = random.randint(0, corpus_length)\n",
    "                candidates.append(stories[cand_story][cand_sent])\n",
    "            scenes.append(candidates)\n",
    "        stories_with_candidates.append(scenes)\n",
    "    return(stories_with_candidates)"
   ]
  },
  {
   "cell_type": "code",
   "execution_count": 13,
   "metadata": {},
   "outputs": [],
   "source": [
    "def story_compatability(scene1, scene2):\n",
    "    rows_ = []\n",
    "    for sent_a in scene1:\n",
    "        cols_ = []\n",
    "        for sent_b in scene2:\n",
    "            encoded = tokenizer.encode_plus(sent_a, sent_b, return_tensors='pt').to(device)\n",
    "            seq_relationship_logits = model(**encoded)[0]\n",
    "            probs = softmax(seq_relationship_logits, dim=1)\n",
    "            score = probs[0][0].tolist()\n",
    "            cols_.append(score)\n",
    "        rows_.append(cols_)\n",
    "    return(np.array(rows_))"
   ]
  },
  {
   "cell_type": "code",
   "execution_count": 16,
   "metadata": {},
   "outputs": [],
   "source": [
    "stories = load_stories('roc')\n",
    "candidated_stories = create_stories(stories)\n",
    "stories_with_scores = []\n",
    "for story in candidated_stories:\n",
    "    scenes_scores = []\n",
    "    for idx in range(0, len(story) -1):\n",
    "        scene1 = story[idx]\n",
    "        scene2 = story[idx + 1]\n",
    "        scene_matrix = story_compatability(scene1, scene2)\n",
    "        scenes_scores.append(scene_matrix)\n",
    "    storie_with_scores = {\n",
    "        'story': story,\n",
    "        'scores': scenes_scores\n",
    "    }\n",
    "\n",
    "    stories_with_scores.append(storie_with_scores)\n",
    "    \n",
    "with open('roc1k.pickle', 'wb') as handle:\n",
    "    pickle.dump(stories_with_scores, handle, protocol=pickle.HIGHEST_PROTOCOL)\n"
   ]
  },
  {
   "cell_type": "code",
   "execution_count": 19,
   "metadata": {},
   "outputs": [],
   "source": [
    "with open('roc1k.pickle', 'wb') as handle:\n",
    "    pickle.dump(stories_with_scores, handle, protocol=pickle.HIGHEST_PROTOCOL)\n"
   ]
  },
  {
   "cell_type": "code",
   "execution_count": null,
   "metadata": {},
   "outputs": [],
   "source": [
    "for i in stories_with_scores:\n",
    "    print(i)"
   ]
  }
 ],
 "metadata": {
  "interpreter": {
   "hash": "dafab0f5b0f2e0b482ce484a64bf4a63ea947b97362cb54784af04b5754b7b41"
  },
  "kernelspec": {
   "display_name": "Python 3.10.4 64-bit ('nebula': conda)",
   "language": "python",
   "name": "python3"
  },
  "language_info": {
   "codemirror_mode": {
    "name": "ipython",
    "version": 3
   },
   "file_extension": ".py",
   "mimetype": "text/x-python",
   "name": "python",
   "nbconvert_exporter": "python",
   "pygments_lexer": "ipython3",
   "version": "3.10.4"
  },
  "orig_nbformat": 4
 },
 "nbformat": 4,
 "nbformat_minor": 2
}

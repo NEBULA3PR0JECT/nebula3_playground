{
 "cells": [
  {
   "cell_type": "code",
   "execution_count": null,
   "metadata": {},
   "outputs": [],
   "source": [
    "import sys\n",
    "sys.path.insert(0, \"/notebooks\")\n",
    "sys.path.insert(0, \"/notebooks/pipenv\")\n",
    "sys.path.insert(0, \"/notebooks/nebula3_database\")\n",
    "#from torch.nn.functional import softmax\n",
    "#from transformers import BertTokenizer, BertForNextSentencePrediction\n",
    "import torch\n",
    "import random\n",
    "import csv\n",
    "import numpy as np\n",
    "from sumproduct import Variable, Factor, FactorGraph\n",
    "import pickle"
   ]
  },
  {
   "cell_type": "code",
   "execution_count": null,
   "metadata": {},
   "outputs": [],
   "source": [
    "stories_with_scores_saved = pickle.load( open( \"roc10.pickle\", \"rb\" ) )"
   ]
  },
  {
   "cell_type": "code",
   "execution_count": null,
   "metadata": {},
   "outputs": [],
   "source": [
    "# factors: an array of 2d factor matrices, for x12, x23, ..., where dimensions are x1*x2, x2*x3, ...\n",
    "\n",
    "def create_2chain_graph(factors):\n",
    "    g = FactorGraph(silent=True)  # init the graph without message printouts\n",
    "    num_vars = len(factors)+1\n",
    "    vars = []\n",
    "    vnames = []\n",
    "    gvars = []\n",
    "    for i in range(len(factors)-1):\n",
    "        assert factors[i].shape[1] == factors[i+1].shape[0]\n",
    "        vars.append(factors[i].shape[0])\n",
    "    vars.append(factors[-1].shape[0])\n",
    "    vars.append(factors[-1].shape[1])\n",
    "    for i, v_size in enumerate(vars):\n",
    "        vname = 'x'+str(i+1)\n",
    "        v = Variable(vname, v_size)\n",
    "        vnames.append(vname)\n",
    "        gvars.append(v)\n",
    "\n",
    "    for i in range(len(gvars)-1):\n",
    "        fname = 'f{}{}'.format(i+1, i+2)\n",
    "        # factors are transposed, from x2 to x1, etc'\n",
    "        fact = Factor(fname, factors[i].transpose())\n",
    "        g.add(fact)\n",
    "        g.append(fname, gvars[i+1])\n",
    "        g.append(fname, gvars[i])\n",
    "\n",
    "    return g, vnames\n",
    "\n",
    "\n",
    "def compute_2chain_marginals(factors):\n",
    "    g, vnames = create_2chain_graph(factors)\n",
    "    g.compute_marginals(max_iter=15500, tolerance=1e-8)\n",
    "    rc = []\n",
    "    for vname in vnames:\n",
    "        rc.append(g.nodes[vname].marginal())\n",
    "    return rc\n"
   ]
  },
  {
   "cell_type": "code",
   "execution_count": null,
   "metadata": {},
   "outputs": [],
   "source": [
    "for story in stories_with_scores_saved:\n",
    "    rc = compute_2chain_marginals(story['scores'])\n",
    "    print('Story with candidates (First sentence is each array is good)')\n",
    "    print(story['story'])\n",
    "    print('BERT Scores')\n",
    "    print(story['scores'])\n",
    "    print('Marginals')\n",
    "    print(rc)"
   ]
  }
 ],
 "metadata": {
  "interpreter": {
   "hash": "dafab0f5b0f2e0b482ce484a64bf4a63ea947b97362cb54784af04b5754b7b41"
  },
  "kernelspec": {
   "display_name": "Python 3.10.4 64-bit ('nebula': conda)",
   "language": "python",
   "name": "python3"
  },
  "language_info": {
   "codemirror_mode": {
    "name": "ipython",
    "version": 3
   },
   "file_extension": ".py",
   "mimetype": "text/x-python",
   "name": "python",
   "nbconvert_exporter": "python",
   "pygments_lexer": "ipython3",
   "version": "3.10.4"
  },
  "orig_nbformat": 4
 },
 "nbformat": 4,
 "nbformat_minor": 2
}

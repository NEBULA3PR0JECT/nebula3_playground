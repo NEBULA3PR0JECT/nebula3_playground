{
 "cells": [
  {
   "cell_type": "code",
   "execution_count": 1,
   "metadata": {},
   "outputs": [],
   "source": [
    "import sys\n",
    "sys.path.insert(0, \"/notebooks/pipenv\")\n",
    "sys.path.insert(0, \"/notebooks/nebula3_vlm\")\n",
    "sys.path.insert(0, \"/notebooks/nebula3_database\")\n",
    "sys.path.insert(0, \"/notebooks/\")\n",
    "import os\n",
    "import math\n",
    "import random\n",
    "import bisect\n",
    "import pickle\n",
    "import time\n",
    "import copy\n",
    "import numpy as np\n"
   ]
  },
  {
   "cell_type": "code",
   "execution_count": 2,
   "metadata": {},
   "outputs": [],
   "source": [
    "import pandas as pd\n",
    "import matplotlib.pyplot as plt\n",
    "import seaborn as sns\n",
    "import urllib\n",
    "import subprocess\n",
    "import re\n",
    "import tempfile\n",
    "import itertools\n",
    "import torch\n",
    "import spacy\n",
    "from torch.nn.functional import softmax as torch_softmax\n",
    "from sumproduct import Variable, Factor, FactorGraph\n",
    "\n",
    "# import amrlib\n",
    "# import penman\n",
    "\n",
    "from typing import List, Tuple\n",
    "from operator import itemgetter \n",
    "from transformers import AutoModel, AutoTokenizer, AutoModelForSequenceClassification, BertTokenizer, BertForSequenceClassification, BertForNextSentencePrediction\n",
    "from database.arangodb import DatabaseConnector\n",
    "from config import NEBULA_CONF\n",
    "from movie_db import MOVIE_DB\n"
   ]
  },
  {
   "cell_type": "code",
   "execution_count": 3,
   "metadata": {},
   "outputs": [],
   "source": [
    "class PIPELINE:\n",
    "    def __init__(self):\n",
    "        config = NEBULA_CONF()\n",
    "        self.db_host = config.get_database_host()\n",
    "        self.database = config.get_playground_name()\n",
    "        self.gdb = DatabaseConnector()\n",
    "        self.db = self.gdb.connect_db(self.database)\n",
    "\n",
    "pipeline = PIPELINE()\n",
    "mdb = MOVIE_DB()\n",
    "from vlm.clip_api import CLIP_API\n",
    "clip=CLIP_API('vit')\n",
    "s2_collection_name = 's2_pipeline_after_gpt'\n",
    "s2_results_orig_collection_name = 's2_pipeline_optim_orig'\n",
    "s2_results_relaxed_collection_name = 's2_pipeline_optim_relaxed'\n",
    "s2_compatibility_collection_name = 's2_pipeline_compatibility_scores'\n",
    "s2_with_compat_collection_name = 's2_pipeline_compatibility_results'\n",
    "s2_with_compat_collection_name2 = 's2_pipeline_compatibility_results2'\n"
   ]
  },
  {
   "cell_type": "code",
   "execution_count": 4,
   "metadata": {},
   "outputs": [
    {
     "name": "stderr",
     "output_type": "stream",
     "text": [
      "Some weights of the model checkpoint at bert-base-uncased were not used when initializing BertForNextSentencePrediction: ['cls.predictions.bias', 'cls.predictions.transform.dense.bias', 'cls.predictions.transform.dense.weight', 'cls.predictions.transform.LayerNorm.weight', 'cls.predictions.transform.LayerNorm.bias', 'cls.predictions.decoder.weight']\n",
      "- This IS expected if you are initializing BertForNextSentencePrediction from the checkpoint of a model trained on another task or with another architecture (e.g. initializing a BertForSequenceClassification model from a BertForPreTraining model).\n",
      "- This IS NOT expected if you are initializing BertForNextSentencePrediction from the checkpoint of a model that you expect to be exactly identical (initializing a BertForSequenceClassification model from a BertForSequenceClassification model).\n"
     ]
    }
   ],
   "source": [
    "tokenizer = BertTokenizer.from_pretrained('bert-base-uncased')\n",
    "model = BertForNextSentencePrediction.from_pretrained('bert-base-uncased')\n",
    "device = \"cuda:0\"\n",
    "model = model.to(device)"
   ]
  },
  {
   "cell_type": "code",
   "execution_count": 5,
   "metadata": {},
   "outputs": [],
   "source": [
    "def create_2chain_graph(factors):\n",
    "    g = FactorGraph(silent=True)  # init the graph without message printouts\n",
    "    num_vars = len(factors)+1\n",
    "    vars = []\n",
    "    vnames = []\n",
    "    gvars = []\n",
    "    for i in range(len(factors)-1):\n",
    "        assert factors[i].shape[1] == factors[i+1].shape[0]\n",
    "        vars.append(factors[i].shape[0])\n",
    "    vars.append(factors[-1].shape[0])\n",
    "    vars.append(factors[-1].shape[1])\n",
    "    for i, v_size in enumerate(vars):\n",
    "        vname = 'x'+str(i+1)\n",
    "        v = Variable(vname, v_size)\n",
    "        vnames.append(vname)\n",
    "        gvars.append(v)\n",
    "\n",
    "    for i in range(len(gvars)-1):\n",
    "        fname = 'f{}{}'.format(i+1, i+2)\n",
    "        # factors are transposed, from x2 to x1, etc'\n",
    "        fact = Factor(fname, factors[i].transpose())\n",
    "        g.add(fact)\n",
    "        g.append(fname, gvars[i+1])\n",
    "        g.append(fname, gvars[i])\n",
    "\n",
    "    return g, vnames\n",
    "\n",
    "\n",
    "def create_3chain_graph(factors):\n",
    "    g = FactorGraph(silent=True)  # init the graph without message printouts\n",
    "    num_vars = len(factors)+2\n",
    "    vars = []\n",
    "    vnames = []\n",
    "    gvars = []\n",
    "    for i in range(len(factors)-2):\n",
    "        assert factors[i].shape[1] == factors[i+1].shape[0]\n",
    "        assert factors[i].shape[2] == factors[i+1].shape[1]\n",
    "        assert factors[i].shape[2] == factors[i+2].shape[0]\n",
    "        vars.append(factors[i].shape[0])\n",
    "    vars.append(factors[-2].shape[0])\n",
    "    vars.append(factors[-2].shape[1])\n",
    "    vars.append(factors[-2].shape[2])\n",
    "    vars.append(factors[-1].shape[2])\n",
    "    for i, n in enumerate(vars):\n",
    "        vname = 'x'+str(i+1)\n",
    "        v = Variable(vname, n)\n",
    "        vnames.append(vname)\n",
    "        gvars.append(v)\n",
    "    for i in range(len(gvars)-2):\n",
    "        fname = 'f{}{}{}'.format(i+1, i+2, i+3)\n",
    "        fact = Factor(fname, factors[i].transpose(\n",
    "            2, 1, 0))     # factors are transposed\n",
    "        g.add(fact)\n",
    "        g.append(fname, gvars[i+2])\n",
    "        g.append(fname, gvars[i+1])\n",
    "        g.append(fname, gvars[i])\n",
    "\n",
    "    return g, vnames\n",
    "\n",
    "def compute_marginals(factors, chain_creator):\n",
    "    g, vnames = chain_creator(factors)\n",
    "    g.compute_marginals(max_iter=15500, tolerance=1e-8)\n",
    "    rc = []\n",
    "    for vname in vnames:\n",
    "        rc.append(g.nodes[vname].marginal())\n",
    "    return rc\n",
    "\n",
    "def compute_2chain_marginals(factors):\n",
    "    return compute_marginals(factors, create_2chain_graph)\n",
    "\n",
    "\n",
    "def compute_3chain_marginals(factors):\n",
    "    return compute_marginals(factors, create_3chain_graph)\n",
    "\n",
    "# def compute_2chain_marginals_orig(factors):\n",
    "#     g, vnames = create_2chain_graph(factors)\n",
    "#     g.compute_marginals(max_iter=15500, tolerance=1e-8)\n",
    "#     rc = []\n",
    "#     for vname in vnames:\n",
    "#         rc.append(g.nodes[vname].marginal())\n",
    "#     return rc\n",
    "\n",
    "# Input: A list of list of strings\n",
    "# Output: A list of list of scores\n",
    "\n",
    "def story_compatability(scene1, scene2):\n",
    "    rows_ = []\n",
    "    for sent_a in scene1:\n",
    "        cols_ = []\n",
    "        for sent_b in scene2:\n",
    "            encoded = tokenizer.encode_plus(sent_a, sent_b, return_tensors='pt').to(device)\n",
    "            seq_relationship_logits = model(**encoded)[0]\n",
    "            probs = torch_softmax(seq_relationship_logits, dim=1)\n",
    "            score = probs[0][0].tolist()\n",
    "            cols_.append(score)\n",
    "        rows_.append(cols_)\n",
    "    return(np.array(rows_))\n",
    "\n",
    "\n",
    "def score_story(story):\n",
    "    scenes_scores = []   # factors\n",
    "    for idx in range(0, len(story) -1):\n",
    "        scene1 = story[idx]\n",
    "        scene2 = story[idx + 1]\n",
    "        scene_matrix = story_compatability(scene1, scene2)\n",
    "        scenes_scores.append(scene_matrix)\n",
    "\n",
    "    return compute_2chain_marginals(scenes_scores)\n",
    "    \n",
    "    "
   ]
  },
  {
   "cell_type": "code",
   "execution_count": 6,
   "metadata": {},
   "outputs": [],
   "source": [
    "def flatten(lst): return [x for l in lst for x in l]\n",
    "\n",
    "def compute_batch_scores(video_emb: torch.Tensor, texts: List[str], normalize=True, **kwargs) -> List[float]:    \n",
    "    emb_batch = clip.clip_batch_encode_text(texts, **kwargs)                           \n",
    "    return (video_emb.expand_as(emb_batch)*emb_batch).sum(dim=1).cpu().numpy()\n",
    "\n",
    "\n",
    "def compute_concat_score(image_emb: torch.Tensor, texts: List[str], join_on=',') -> float:\n",
    "    combined_text = \"\"\n",
    "    for t in [x.strip() for x in texts]:\n",
    "        if t[-1]=='.':\n",
    "            t = t[:-1]       \n",
    "        t+=join_on\n",
    "        t+=' '\n",
    "        combined_text+=t\n",
    "    print(\"Combined: \"+combined_text)\n",
    "    return torch.matmul(image_emb,mdmmt.encode_text(combined_text.strip()) )       "
   ]
  },
  {
   "cell_type": "code",
   "execution_count": 7,
   "metadata": {},
   "outputs": [],
   "source": [
    "class SimilarityManager:\n",
    "    def __init__(self):\n",
    "        self.nlp = spacy.load('en_core_web_lg')\n",
    "\n",
    "    def similarity(self, src, target):\n",
    "        rc = []\n",
    "        s1 = self.nlp(src)\n",
    "        s2 = self.nlp(target)\n",
    "        for w in s1:\n",
    "            # if not w or not w.vector_norm:\n",
    "            #     print('Argghhh 1, bad word:')\n",
    "            #     print(w.text)\n",
    "            if w.pos_ not in ['NOUN', 'ADJ', 'ADV', 'VERB', 'PROPN', 'ADP'] and len(s1)>1:\n",
    "                continue\n",
    "            # for tok in s2:\n",
    "            #     if not tok or not tok.vector_norm:\n",
    "            #         print('Argghhh 2, bad word:')\n",
    "            #         print(tok.text)\n",
    "            #         print(s2.text)\n",
    "            rc.append(max([w.similarity(x) for x in s2]))\n",
    "        return np.mean(rc)\n",
    "        \n",
    "smanager = SimilarityManager()\n"
   ]
  },
  {
   "cell_type": "code",
   "execution_count": 8,
   "metadata": {},
   "outputs": [],
   "source": [
    "softmax = lambda x: np.exp(x)/sum(np.exp(x))\n",
    "def normalize(x):\n",
    "    epsilon = 0.00001\n",
    "    if np.std(x) < epsilon:\n",
    "        return np.ones(x.shape)\n",
    "    return (x - np.mean(x)) / np.std(x)\n"
   ]
  },
  {
   "cell_type": "code",
   "execution_count": 9,
   "metadata": {},
   "outputs": [],
   "source": [
    "def powerset(iterable):\n",
    "    s = list(iterable)\n",
    "    return itertools.chain.from_iterable(itertools.combinations(s, r) for r in range(1,len(s)+1))\n",
    "\n",
    "\n",
    "def optimize_sents(emb_video, experts, sents, compat_scores, use_ordered_scores=False):\n",
    "    smanager = SimilarityManager()\n",
    "    compat_scores = np.array(compat_scores)\n",
    "    as_compat = compat_scores.argsort()\n",
    "    # print(compat_scores)\n",
    "    graded_scores = sorted(list(zip(as_compat,range(len(as_compat)))),key = lambda x:x[0])\n",
    "    # print(list(zip(as_compat,range(len(as_compat)))))\n",
    "    # print(graded_scores)\n",
    "    order_scores = normalize(np.array(list(zip(*graded_scores))[1]))\n",
    "    print(order_scores)\n",
    "    # print(list(zip(compat_scores[as_compat],as_compat)))\n",
    "    orig_similarity = compute_batch_scores(emb_video, sents)\n",
    "    candidates_similarity = normalize(orig_similarity)\n",
    "    coverage_matrix = np.zeros([len(experts),len(sents)])\n",
    "    coverage_matrix[:] = np.nan\n",
    "    for i in range(len(experts)):\n",
    "        for j in range(len(sents)):\n",
    "            coverage_matrix[i][j]=smanager.similarity(experts[i],sents[j])\n",
    "        coverage_matrix[i] = normalize(coverage_matrix[i])\n",
    "\n",
    "    def get_score(state: List[int]) -> float:\n",
    "        theta_similarity = 1.\n",
    "        theta_coverage = 1.3\n",
    "        theta_compat = 1.\n",
    "        if not state:\n",
    "            return 0\n",
    "        coverage_score = get_state_coverage(state)   \n",
    "        similarity_score = candidates_similarity[state].mean().item()\n",
    "        if use_ordered_scores:            \n",
    "             compat_score = order_scores[state].mean().item()\n",
    "        else:            \n",
    "             compat_score = compat_scores[state].mean().item()\n",
    "        return theta_coverage*coverage_score + theta_similarity*similarity_score + theta_compat*compat_score\n",
    "\n",
    "    def get_expert_coverage(state):\n",
    "        # return self.coverage_matrix[:,state].sum(axis=1)\n",
    "        return coverage_matrix[:,state].max(axis=1)\n",
    "          \n",
    "    def get_state_coverage(state) -> float:\n",
    "        # print(\"State coverage for {}:\".format(state))\n",
    "        # print(get_expert_coverage(state))\n",
    "        return np.mean(get_expert_coverage(state))\n",
    "\n",
    "\n",
    "    superset = list(range(len(sents)))\n",
    "    pset = [list(x) for x in powerset(superset)]\n",
    "    pset_scores = [get_score(x) for x in pset]\n",
    "    best_cand = pset[np.argmax(pset_scores)]\n",
    "    print(\"Best candidates:\")\n",
    "    print(best_cand)\n",
    "    rc_sents = itemgetter(*best_cand)(sents)\n",
    "    if type(rc_sents)==tuple:\n",
    "        rc = list(rc_sents)\n",
    "    elif type(rc_sents)==str:\n",
    "        rc = [rc_sents]\n",
    "    else:\n",
    "        print(\"Bad return type!!\")\n",
    "    return rc, orig_similarity[best_cand].mean()\n",
    "\n",
    "\n",
    "def optimize_scene(doc,mat=None, emb_video=None, **kwargs):\n",
    "    mid = doc['movie_id']\n",
    "    elem = doc['scene_element']\n",
    "    emb_video = clip.clip_encode_video(mid,elem)\n",
    "    all_sents = doc['sentences']\n",
    "    rc = mdb.get_scene_from_collection(mid,elem,'s2_clsmdc')    \n",
    "    experts = flatten(rc['experts'].values())\n",
    "    rc = mdb.get_scene_from_collection(mid,elem,s2_compatibility_collection_name)  \n",
    "    all_compat_scores = rc['compat_scores']\n",
    "    n = len(all_sents)\n",
    "    rc_sents = n*[None]\n",
    "    mean_scores = n*[None]\n",
    "    for i in range(n):\n",
    "        rc_sents[i], mean_scores[i] = optimize_sents(emb_video,experts,all_sents[i],all_compat_scores[i], **kwargs)\n",
    "\n",
    "    return rc_sents, mean_scores\n",
    "    \n",
    "def run_pipeline(all_docs, target_collection_name=s2_with_compat_collection_name, **kwargs):\n",
    "    for doc in all_docs:\n",
    "        mid = doc['movie_id']\n",
    "        elem = doc['scene_element']\n",
    "        rc = mdb.get_scene_from_collection(mid,elem,target_collection_name)\n",
    "        if rc:\n",
    "            print(\"Results already exist for {}/{}\".format(mid,elem))\n",
    "            continue\n",
    "        print(\"Going forward with {}/{}\".format(mid,elem))\n",
    "\n",
    "        rc_sents, sim_scores = optimize_scene(doc,**kwargs)\n",
    "        rc_doc = {\n",
    "            'movie_id': mid,\n",
    "            'scene_element': elem,\n",
    "            'sentences': rc_sents,\n",
    "            'mean_scores': sim_scores,\n",
    "        }\n",
    "        query = \"INSERT {} INTO {}\".format(rc_doc,target_collection_name)\n",
    "        cursor = pipeline.db.aql.execute(query)  "
   ]
  },
  {
   "cell_type": "code",
   "execution_count": 10,
   "metadata": {},
   "outputs": [
    {
     "name": "stdout",
     "output_type": "stream",
     "text": [
      "mid is Movies/222510403\n",
      "mid is Movies/222510324\n",
      "mid is Movies/222511095\n",
      "mid is Movies/222510692\n",
      "mid is Movies/222509721\n",
      "mid is Movies/222510136\n",
      "mid is Movies/222510448\n",
      "mid is Movies/222510810\n",
      "mid is Movies/222510575\n",
      "mid is Movies/222510046\n",
      "mid is Movies/222509820\n",
      "mid is Movies/222510189\n",
      "mid is Movies/222510951\n",
      "mid is Movies/222511030\n",
      "mid is Movies/222509634\n",
      "mid is Movies/222510253\n",
      "mid is Movies/222509945\n",
      "mid is Movies/222509871\n"
     ]
    }
   ],
   "source": [
    "query = 'FOR doc IN {} RETURN doc'.format(s2_compatibility_collection_name)\n",
    "cursor = pipeline.db.aql.execute(query)\n",
    "all_docs = sorted(list(cursor), key=lambda x:\"{}/{}\".format(x['movie_id'],x['scene_element']))\n",
    "movies = list(set([x['movie_id'] for x in all_docs]))\n",
    "all_movies = {}\n",
    "\n",
    "for mid in movies:\n",
    "    print(\"mid is {}\".format(mid))\n",
    "    story = []\n",
    "    elements = sorted([x for x in all_docs if x['movie_id'] == mid],key=lambda y:y['scene_element'])\n",
    "    all_movies[mid] = elements"
   ]
  },
  {
   "cell_type": "code",
   "execution_count": 130,
   "metadata": {},
   "outputs": [
    {
     "name": "stdout",
     "output_type": "stream",
     "text": [
      "Movies/222509871\n"
     ]
    },
    {
     "data": {
      "text/plain": [
       "<AxesSubplot:>"
      ]
     },
     "execution_count": 130,
     "metadata": {},
     "output_type": "execute_result"
    },
    {
     "data": {
      "image/png": "[encoded data removed]",
      "text/plain": [
       "<Figure size 864x576 with 1 Axes>"
      ]
     },
     "metadata": {},
     "output_type": "display_data"
    }
   ],
   "source": [
    "j = 0\n",
    "k=17\n",
    "keys = list(all_movies.keys())\n",
    "scene = all_movies[keys[k]]\n",
    "scene_scores = []\n",
    "for i in range(len(scene)):\n",
    "    iscores = scene[i]['compat_scores'][j]\n",
    "    ind = [i]*len(iscores)    \n",
    "    scene_scores.append(list(zip(ind,iscores)))\n",
    "scene_scores = np.concatenate(scene_scores)    \n",
    "print(keys[k])\n",
    "sns.set(rc = {'figure.figsize':(12,8)})\n",
    "sns.scatterplot(x=scene_scores[:,0],y=scene_scores[:,1])\n",
    "# sns.boxplot(x=scene_scores[:,0],y=scene_scores[:,1])"
   ]
  },
  {
   "cell_type": "code",
   "execution_count": 9,
   "metadata": {},
   "outputs": [],
   "source": [
    "def detect_outliers(doc, num_sigma=5.0, num_abs=0.07, use_abs=True):\n",
    "    n = len(doc['compat_scores'])\n",
    "    rc = []\n",
    "    for i in range(n):\n",
    "        scores = np.array(doc['compat_scores'][i])\n",
    "        mean = scores.mean()\n",
    "        var = scores.std()\n",
    "        if use_abs:\n",
    "            rc.append(np.where(np.abs(scores-mean)>num_abs)[0])\n",
    "        else:\n",
    "            rc.append(np.where(np.abs(scores-mean)>num_sigma*var)[0])\n",
    "\n",
    "    return rc\n",
    "    "
   ]
  },
  {
   "cell_type": "code",
   "execution_count": 200,
   "metadata": {},
   "outputs": [
    {
     "data": {
      "text/plain": [
       "6"
      ]
     },
     "execution_count": 200,
     "metadata": {},
     "output_type": "execute_result"
    }
   ],
   "source": [
    "all_outliers = []\n",
    "for doc in all_docs:    \n",
    "    rc = detect_outliers(doc,num_abs=0.05,use_abs=True)\n",
    "    if len(flatten(rc)) > 0:\n",
    "        all_outliers.append((doc['movie_id'],doc['scene_element']))\n",
    "\n",
    "len(all_outliers)"
   ]
  },
  {
   "cell_type": "code",
   "execution_count": 201,
   "metadata": {},
   "outputs": [
    {
     "data": {
      "text/plain": [
       "[('Movies/222510136', 0),\n",
       " ('Movies/222510575', 10),\n",
       " ('Movies/222510575', 9),\n",
       " ('Movies/222510692', 9),\n",
       " ('Movies/222510810', 1),\n",
       " ('Movies/222510951', 2)]"
      ]
     },
     "execution_count": 201,
     "metadata": {},
     "output_type": "execute_result"
    }
   ],
   "source": [
    "all_outliers"
   ]
  },
  {
   "cell_type": "code",
   "execution_count": 203,
   "metadata": {},
   "outputs": [
    {
     "data": {
      "text/plain": [
       "[(0, array([], dtype=int64)),\n",
       " (1, array([], dtype=int64)),\n",
       " (2, array([], dtype=int64)),\n",
       " (3, array([9])),\n",
       " (4, array([9])),\n",
       " (5, array([], dtype=int64)),\n",
       " (6, array([9])),\n",
       " (7, array([8])),\n",
       " (8, array([], dtype=int64)),\n",
       " (9, array([], dtype=int64))]"
      ]
     },
     "execution_count": 203,
     "metadata": {},
     "output_type": "execute_result"
    }
   ],
   "source": [
    "mid, elem = all_outliers[0]\n",
    "doc = all_movies[mid][elem]\n",
    "# emb_video = clip.clip_encode_video(mid,elem)\n",
    "list(enumerate(detect_outliers(doc,num_abs=0.05,use_abs=True)))"
   ]
  },
  {
   "cell_type": "code",
   "execution_count": 140,
   "metadata": {},
   "outputs": [
    {
     "ename": "NameError",
     "evalue": "name 'doc' is not defined",
     "output_type": "error",
     "traceback": [
      "\u001b[0;31m---------------------------------------------------------------------------\u001b[0m",
      "\u001b[0;31mNameError\u001b[0m                                 Traceback (most recent call last)",
      "\u001b[0;32m/tmp/ipykernel_251989/3329732203.py\u001b[0m in \u001b[0;36m<module>\u001b[0;34m\u001b[0m\n\u001b[1;32m      3\u001b[0m \u001b[0;31m# sim_scores = sim_scores - np.mean(sim_scores)\u001b[0m\u001b[0;34m\u001b[0m\u001b[0;34m\u001b[0m\u001b[0m\n\u001b[1;32m      4\u001b[0m \u001b[0;31m# list(enumerate(zip(doc['sentences'][i],doc['compat_scores'][i], sim_scores)))\u001b[0m\u001b[0;34m\u001b[0m\u001b[0;34m\u001b[0m\u001b[0m\n\u001b[0;32m----> 5\u001b[0;31m \u001b[0mlist\u001b[0m\u001b[0;34m(\u001b[0m\u001b[0menumerate\u001b[0m\u001b[0;34m(\u001b[0m\u001b[0mzip\u001b[0m\u001b[0;34m(\u001b[0m\u001b[0mdoc\u001b[0m\u001b[0;34m[\u001b[0m\u001b[0;34m'sentences'\u001b[0m\u001b[0;34m]\u001b[0m\u001b[0;34m[\u001b[0m\u001b[0mi\u001b[0m\u001b[0;34m]\u001b[0m\u001b[0;34m,\u001b[0m\u001b[0mdoc\u001b[0m\u001b[0;34m[\u001b[0m\u001b[0;34m'compat_scores'\u001b[0m\u001b[0;34m]\u001b[0m\u001b[0;34m[\u001b[0m\u001b[0mi\u001b[0m\u001b[0;34m]\u001b[0m\u001b[0;34m)\u001b[0m\u001b[0;34m)\u001b[0m\u001b[0;34m)\u001b[0m\u001b[0;34m\u001b[0m\u001b[0;34m\u001b[0m\u001b[0m\n\u001b[0m",
      "\u001b[0;31mNameError\u001b[0m: name 'doc' is not defined"
     ]
    }
   ],
   "source": [
    "i=7\n",
    "# sim_scores = compute_batch_scores(emb_video,doc['sentences'][i])\n",
    "# sim_scores = sim_scores - np.mean(sim_scores)\n",
    "# list(enumerate(zip(doc['sentences'][i],doc['compat_scores'][i], sim_scores)))\n",
    "list(enumerate(zip(doc['sentences'][i],doc['compat_scores'][i])))"
   ]
  },
  {
   "cell_type": "code",
   "execution_count": 135,
   "metadata": {},
   "outputs": [
    {
     "data": {
      "text/plain": [
       "('Movies/222509871', 12, 0)"
      ]
     },
     "execution_count": 135,
     "metadata": {},
     "output_type": "execute_result"
    }
   ],
   "source": [
    "scene = all_movies['Movies/222510575']\n",
    "# scene = all_movies[mid]\n",
    "# mid, len(scene), elem\n",
    "mid, len(scene), 0"
   ]
  },
  {
   "cell_type": "code",
   "execution_count": 142,
   "metadata": {},
   "outputs": [
    {
     "data": {
      "text/plain": [
       "[('a group of missiles are flying over a body of water and targeting the beach',\n",
       "  0.08543837880037813),\n",
       " ('a group of missiles are flying over the sea', 0.07731923414998039),\n",
       " ('a group of missiles are approaching a beach from a body of green mountains',\n",
       "  0.07668418111467121),\n",
       " ('a group of planes flying over a green mountain towards a beach',\n",
       "  0.11837373196801622),\n",
       " ('a group of planes flying over a body of water and targeting the beach',\n",
       "  0.12150756873861852),\n",
       " ('a group of planes are crossing a green mountain which turns out to be a burning one as they target the beach behind it',\n",
       "  0.09576741214681339),\n",
       " ('a group of missiles are launched over the sea near green mountain',\n",
       "  0.035417253889548674),\n",
       " ('a group of missiles and a trail of smoke are flying over a body of water',\n",
       "  0.10353808203608124),\n",
       " ('a group of missiles flying over a beach', 0.06577014651476489),\n",
       " ('a group of planes flying over a green mountain and targeting the beach',\n",
       "  0.11428733695100425),\n",
       " ('a group of planes flying over the sea towards a green mountain targeting the beach',\n",
       "  0.10589667369012304)]"
      ]
     },
     "execution_count": 142,
     "metadata": {},
     "output_type": "execute_result"
    }
   ],
   "source": [
    "i=0\n",
    "selem = scene[9]\n",
    "# list(enumerate(zip(selem['sentences'][i],selem['compat_scores'][i])))\n",
    "list(zip(selem['sentences'][i],selem['compat_scores'][i]))"
   ]
  },
  {
   "cell_type": "code",
   "execution_count": 225,
   "metadata": {},
   "outputs": [],
   "source": [
    "s2 = copy.deepcopy(scene[0]['sentences'][i])\n",
    "s3 = copy.deepcopy(scene[1]['sentences'][i])\n"
   ]
  },
  {
   "cell_type": "code",
   "execution_count": 222,
   "metadata": {},
   "outputs": [],
   "source": [
    "# s9[6] = 'a little dark skinned girl with a striped shirt raises her hands up in the air'\n",
    "# s9[5] = 'A little girl holding hands with others kept her hands raised in the air as they prepared to attack a tribal girl'\n",
    "s2[8] = 'A large explosion spreads through the cupboard and through the building.'"
   ]
  },
  {
   "cell_type": "code",
   "execution_count": 226,
   "metadata": {},
   "outputs": [],
   "source": [
    "# rc = story_compatability(scene[9]['sentences'][i], scene[10]['sentences'][i])\n",
    "rc = story_compatability(s2,s3)"
   ]
  },
  {
   "cell_type": "code",
   "execution_count": 227,
   "metadata": {},
   "outputs": [
    {
     "data": {
      "text/plain": [
       "[0.9102119717475338,\n",
       " 0.9998342742522558,\n",
       " 0.9996089339256287,\n",
       " 0.9999626278877258,\n",
       " 0.9999694426854452,\n",
       " 0.8339914248790592,\n",
       " 0.999931255976359,\n",
       " 0.9999830524126688,\n",
       " 0.3416450340919255,\n",
       " 0.9991762340068817,\n",
       " 0.5767992973948518,\n",
       " 0.9998853007952372]"
      ]
     },
     "execution_count": 227,
     "metadata": {},
     "output_type": "execute_result"
    }
   ],
   "source": [
    "# rc[5].mean()\n",
    "[x.mean() for x in rc]"
   ]
  },
  {
   "cell_type": "code",
   "execution_count": 101,
   "metadata": {},
   "outputs": [],
   "source": [
    "story = [scene[9]['sentences'][i], scene[10]['sentences'][i]]"
   ]
  },
  {
   "cell_type": "code",
   "execution_count": 102,
   "metadata": {},
   "outputs": [],
   "source": [
    "rc = score_story(story)"
   ]
  },
  {
   "cell_type": "code",
   "execution_count": 103,
   "metadata": {},
   "outputs": [
    {
     "data": {
      "text/plain": [
       "[array([0.09007201, 0.0900718 , 0.09007126, 0.0900725 , 0.09007197,\n",
       "        0.09003483, 0.00924651, 0.09007168, 0.09007212, 0.09007203,\n",
       "        0.0900714 , 0.09007186]),\n",
       " array([0.09907948, 0.09909141, 0.0990914 , 0.09909344, 0.10803553,\n",
       "        0.09909128, 0.09919165, 0.09915561, 0.09908441, 0.09908579])]"
      ]
     },
     "execution_count": 103,
     "metadata": {},
     "output_type": "execute_result"
    }
   ],
   "source": [
    "rc"
   ]
  },
  {
   "cell_type": "code",
   "execution_count": null,
   "metadata": {},
   "outputs": [],
   "source": []
  }
 ],
 "metadata": {
  "interpreter": {
   "hash": "dafab0f5b0f2e0b482ce484a64bf4a63ea947b97362cb54784af04b5754b7b41"
  },
  "kernelspec": {
   "display_name": "Python 3 (ipykernel)",
   "language": "python",
   "name": "python3"
  },
  "language_info": {
   "codemirror_mode": {
    "name": "ipython",
    "version": 3
   },
   "file_extension": ".py",
   "mimetype": "text/x-python",
   "name": "python",
   "nbconvert_exporter": "python",
   "pygments_lexer": "ipython3",
   "version": "3.10.4"
  }
 },
 "nbformat": 4,
 "nbformat_minor": 4
}
